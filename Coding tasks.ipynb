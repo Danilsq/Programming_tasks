{
 "cells": [
  {
   "cell_type": "code",
   "execution_count": 161,
   "id": "d73167b6",
   "metadata": {},
   "outputs": [
    {
     "data": {
      "text/plain": [
       "13"
      ]
     },
     "execution_count": 161,
     "metadata": {},
     "output_type": "execute_result"
    }
   ],
   "source": [
    "fib = lambda x: 1 if x <= 2 else fib(x - 1) + fib(x - 2)\n",
    "fib(7)"
   ]
  },
  {
   "cell_type": "code",
   "execution_count": 15,
   "id": "e9fc1b1b",
   "metadata": {},
   "outputs": [
    {
     "name": "stdout",
     "output_type": "stream",
     "text": [
      "4\n",
      "-1\n",
      "3\n",
      "-2\n",
      "8\n",
      "8\n"
     ]
    }
   ],
   "source": [
    "n = int(input())\n",
    "sum = 0\n",
    "\n",
    "for i in range(0, n):\n",
    "    x = int(input())\n",
    "    sum += x\n",
    "print(sum)"
   ]
  },
  {
   "cell_type": "code",
   "execution_count": 82,
   "id": "8246ba45",
   "metadata": {},
   "outputs": [
    {
     "name": "stdout",
     "output_type": "stream",
     "text": [
      "5\n",
      "0\n",
      "mod\n",
      "Деление на 0!\n"
     ]
    }
   ],
   "source": [
    "# калькулятор\n",
    "a = int(input())\n",
    "b = int(input())\n",
    "c = input()\n",
    "\n",
    "if c == '+':\n",
    "    print(a + b)\n",
    "elif c == '-':\n",
    "    print(a - b)\n",
    "elif c == '/':\n",
    "    if b != 0:\n",
    "        print(a / b)\n",
    "    else:\n",
    "        print('Деление на 0!')\n",
    "elif c == '*':\n",
    "    print(a * b)\n",
    "elif c == 'mod':\n",
    "    if b != 0:\n",
    "        print(a % b)\n",
    "    else:\n",
    "        print('Деление на 0!')\n",
    "elif c == 'pow':\n",
    "    print(a ** b)\n",
    "elif c == 'div':\n",
    "    if b != 0:\n",
    "        print(a // b)\n",
    "    else:\n",
    "        print('Деление на 0!')"
   ]
  },
  {
   "cell_type": "code",
   "execution_count": 153,
   "id": "a38322b2",
   "metadata": {},
   "outputs": [
    {
     "name": "stdout",
     "output_type": "stream",
     "text": [
      "111\n",
      "111 программистов\n"
     ]
    }
   ],
   "source": [
    "# работа с окончаниями\n",
    "n = int(input())\n",
    "\n",
    "if n % 10 == 1 and n != 11 and n!= 111:\n",
    "    print(n, 'программист')\n",
    "elif (n % 10 == 2 or n % 10 == 3 or n % 10 == 4) and (n != 12 and n != 13 and n != 14 and n != 112 and n != 113 and n!= 114):\n",
    "    print(n, 'программиста')\n",
    "elif n % 10 == 0 or n == 11 or n == 12 or n == 13 or n == 14 or n == 112 or n == 113 or n == 114:\n",
    "    print(n, 'программистов')\n",
    "else:\n",
    "    print(n, 'программистов')"
   ]
  },
  {
   "cell_type": "code",
   "execution_count": 166,
   "id": "4d2104f3",
   "metadata": {},
   "outputs": [
    {
     "name": "stdout",
     "output_type": "stream",
     "text": [
      "2353\n"
     ]
    },
    {
     "data": {
      "text/plain": [
       "10"
      ]
     },
     "execution_count": 166,
     "metadata": {},
     "output_type": "execute_result"
    }
   ],
   "source": [
    "# сумма левой и правой части\n",
    "n = input()\n",
    "if int(n[0]) + int(n[1]) + int(n[2]) == int(n[3]) + int(n[4]) + int(n[5]):\n",
    "    print('Счастливый')\n",
    "else:\n",
    "    print('Обычный')"
   ]
  },
  {
   "cell_type": "code",
   "execution_count": 1,
   "id": "bad90181",
   "metadata": {
    "scrolled": true
   },
   "outputs": [
    {
     "name": "stdout",
     "output_type": "stream",
     "text": [
      "17\n"
     ]
    }
   ],
   "source": [
    "i = 0\n",
    "stars = str()\n",
    "while i < 5:\n",
    "    stars += ('*')\n",
    "    if i % 2 == 0:\n",
    "        stars += ('**')\n",
    "    if i > 2:\n",
    "        stars += ('***')\n",
    "    i = i + 1\n",
    "print(len(stars))"
   ]
  },
  {
   "cell_type": "code",
   "execution_count": 11,
   "id": "a23e5901",
   "metadata": {},
   "outputs": [
    {
     "name": "stdout",
     "output_type": "stream",
     "text": [
      "3\n",
      "5\n",
      "7\n",
      "0\n",
      "15\n"
     ]
    }
   ],
   "source": [
    "# счет суммы пока не 0\n",
    "n = int(input())\n",
    "sum = n\n",
    "\n",
    "while n != 0:\n",
    "    n = int(input())\n",
    "    sum += n\n",
    "print(sum)"
   ]
  },
  {
   "cell_type": "code",
   "execution_count": 8,
   "id": "a835d432",
   "metadata": {},
   "outputs": [
    {
     "name": "stdout",
     "output_type": "stream",
     "text": [
      "6\n",
      "10\n",
      "30\n"
     ]
    }
   ],
   "source": [
    "# НОК чисел a, b\n",
    "a = int(input())\n",
    "b = int(input())\n",
    "d = 1\n",
    "\n",
    "while d % b != 0 or d % a != 0:\n",
    "    d += 1\n",
    "print(d)"
   ]
  },
  {
   "cell_type": "code",
   "execution_count": 46,
   "id": "37386b1a",
   "metadata": {},
   "outputs": [
    {
     "name": "stdout",
     "output_type": "stream",
     "text": [
      "3\n",
      "100\n",
      "101\n"
     ]
    }
   ],
   "source": [
    "i = 0\n",
    "while i <= 100:\n",
    "    i = int(input())\n",
    "    if i < 10:\n",
    "        continue\n",
    "    if i > 100:\n",
    "        break\n",
    "    print(i)"
   ]
  },
  {
   "cell_type": "code",
   "execution_count": null,
   "id": "5dcddfee",
   "metadata": {},
   "outputs": [],
   "source": [
    "while True:\n",
    "    number = int(input())\n",
    "    if number >100:\n",
    "        break\n",
    "    if number <10:\n",
    "        continue\n",
    "    print(number)"
   ]
  },
  {
   "cell_type": "code",
   "execution_count": 19,
   "id": "515561ad",
   "metadata": {},
   "outputs": [
    {
     "name": "stdout",
     "output_type": "stream",
     "text": [
      "3\n",
      "5\n",
      "6\n",
      "8\n",
      "\t 6\t 7\t 8\n",
      " 3\t18\t21\t24\t\n",
      " 4\t24\t28\t32\t\n",
      " 5\t30\t35\t40\t"
     ]
    }
   ],
   "source": [
    "a = int(input())\n",
    "b = int(input())\n",
    "c = int(input())\n",
    "d = int(input())\n",
    "\n",
    "for j in range(c, d+1):\n",
    "    print('\\t', j, end = '')\n",
    "\n",
    "for i in range(a, b+1):\n",
    "    print('\\n', i, end = '\\t')\n",
    "    for j in range(c, d+1):\n",
    "        print(i * j, end = '\\t')"
   ]
  },
  {
   "cell_type": "code",
   "execution_count": 21,
   "id": "076daa08",
   "metadata": {},
   "outputs": [
    {
     "name": "stdout",
     "output_type": "stream",
     "text": [
      "3 8\n",
      "15\n"
     ]
    }
   ],
   "source": [
    "a, b = (int(i) for i in input().split())\n",
    "s = 0\n",
    "if a % 2 == 0:\n",
    "    a += 1\n",
    "for i in range(a, b + 1, 2):\n",
    "    s += i\n",
    "print(s)"
   ]
  },
  {
   "cell_type": "code",
   "execution_count": 22,
   "id": "87cc0d6b",
   "metadata": {},
   "outputs": [
    {
     "name": "stdout",
     "output_type": "stream",
     "text": [
      "-5 12\n",
      "average:  4.5\n"
     ]
    }
   ],
   "source": [
    "a, b = (int(i) for i in input().split())\n",
    "sum = 0\n",
    "n = 0\n",
    "for i in range(a, b + 1):\n",
    "    if i % 3 == 0:\n",
    "        sum += i\n",
    "        n += 1\n",
    "print('average: ', sum / n)"
   ]
  },
  {
   "cell_type": "code",
   "execution_count": 24,
   "id": "8fc7ab36",
   "metadata": {},
   "outputs": [
    {
     "name": "stdout",
     "output_type": "stream",
     "text": [
      "acggtgttat\n",
      "0.4\n"
     ]
    }
   ],
   "source": [
    "genom = input()\n",
    "ratio = (genom.lower().count('g') + genom.lower().count('c')) / len(genom.lower())\n",
    "print(ratio)"
   ]
  },
  {
   "cell_type": "markdown",
   "id": "adfc0335",
   "metadata": {},
   "source": [
    "Узнав, что ДНК не является случайной строкой, только что поступившие в Институт биоинформатики студенты группы информатиков предложили использовать алгоритм сжатия, который сжимает повторяющиеся символы в строке.\n",
    "\n",
    "Кодирование осуществляется следующим образом:\n",
    "s = 'aaaabbсaa' преобразуется в 'a4b2с1a2', то есть группы одинаковых символов исходной строки заменяются на этот символ и количество его повторений в этой позиции строки.\n",
    "\n",
    "Напишите программу, которая считывает строку, кодирует её предложенным алгоритмом и выводит закодированную последовательность на стандартный вывод. Кодирование должно учитывать регистр символов.\n",
    "\n",
    "__Sample Input 1:__\n",
    "\n",
    "aaaabbcaa\n",
    "\n",
    "__Sample Output 1:__\n",
    "\n",
    "a4b2c1a2"
   ]
  },
  {
   "cell_type": "code",
   "execution_count": null,
   "id": "64a3f394",
   "metadata": {},
   "outputs": [],
   "source": [
    "s = input()\n",
    "l=len(s)\n",
    "cnt=1\n",
    "for i in range(l):\n",
    "    if i==(l-1):\n",
    "        print(s[i]+str(cnt),end='')\n",
    "    else:\n",
    "        if s[i]==s[i+1]:\n",
    "            cnt=cnt+1\n",
    "        else:\n",
    "            print(s[i]+str(cnt),end='')\n",
    "            cnt=1"
   ]
  },
  {
   "cell_type": "markdown",
   "id": "c0bab673",
   "metadata": {},
   "source": [
    "Напишите программу, на вход которой подаётся список чисел одной строкой. Программа должна для каждого элемента этого списка вывести сумму двух его соседей. Для элементов списка, являющихся крайними, одним из соседей считается элемент, находящий на противоположном конце этого списка. Например, если на вход подаётся список \"1 3 5 6 10\", то на выход ожидается список \"13 6 9 15 7\" (без кавычек).\n",
    "\n",
    "Если на вход пришло только одно число, надо вывести его же.\n",
    "\n",
    "Вывод должен содержать одну строку с числами нового списка, разделёнными пробелом."
   ]
  },
  {
   "cell_type": "code",
   "execution_count": 24,
   "id": "6a294d53",
   "metadata": {},
   "outputs": [
    {
     "name": "stdout",
     "output_type": "stream",
     "text": [
      "10\n",
      "10\n"
     ]
    }
   ],
   "source": [
    "lst = [int(a) for a in input().split()]\n",
    "lst_new = []\n",
    "if len(lst) > 1:\n",
    "    for i in range(len(lst) - 1):\n",
    "        if i == 0:\n",
    "            lst_new.append(lst[-1] + lst[i + 1])\n",
    "        else:\n",
    "            lst_new.append(lst[i - 1] + lst[i + 1])\n",
    "    lst_new.append(lst[-2] + lst[0])\n",
    "    for a in lst_new:\n",
    "        print(a, end = ' ')\n",
    "else:\n",
    "    for a in lst:\n",
    "        print(a)"
   ]
  },
  {
   "cell_type": "markdown",
   "id": "6892cfce",
   "metadata": {},
   "source": [
    "Напишите программу, которая принимает на вход список чисел в одной строке и выводит на экран в одну строку значения, которые встречаются в нём более одного раза.\n",
    "\n",
    "Для решения задачи может пригодиться метод sort списка.\n",
    "\n",
    "Выводимые числа не должны повторяться, порядок их вывода может быть произвольным."
   ]
  },
  {
   "cell_type": "code",
   "execution_count": 31,
   "id": "47e1e540",
   "metadata": {},
   "outputs": [
    {
     "name": "stdout",
     "output_type": "stream",
     "text": [
      "1 1 1 2 2 2 \n",
      "1 2 "
     ]
    }
   ],
   "source": [
    "lst = [int(a) for a in input().split()]\n",
    "lst.sort()\n",
    "k = 2.5\n",
    "for i in range(len(lst) - 1):\n",
    "    if lst[i] == lst[i+1] and lst[i] != k:\n",
    "        print(lst[i], end =' ')\n",
    "        k = lst[i]\n",
    "    else:\n",
    "        continue"
   ]
  },
  {
   "cell_type": "markdown",
   "id": "eea88c1a",
   "metadata": {},
   "source": [
    "Напишите программу, которая считывает с консоли числа (по одному в строке) до тех пор, пока сумма введённых чисел не будет равна 0 и сразу после этого выводит сумму квадратов всех считанных чисел.\n",
    "\n",
    "Гарантируется, что в какой-то момент сумма введённых чисел окажется равной 0, после этого считывание продолжать не нужно.\n",
    "\n",
    "В примере мы считываем числа 1, -3, 5, -6, -10, 13; в этот момент замечаем, что сумма этих чисел равна нулю и выводим сумму их квадратов, не обращая внимания на то, что остались ещё не прочитанные значения."
   ]
  },
  {
   "cell_type": "code",
   "execution_count": 4,
   "id": "0d829ed4",
   "metadata": {},
   "outputs": [
    {
     "name": "stdout",
     "output_type": "stream",
     "text": [
      "1\n",
      "-3\n",
      "5\n",
      "-6\n",
      "-10\n",
      "13\n"
     ]
    }
   ],
   "source": [
    "summ = 0\n",
    "lst = []\n",
    "while True:\n",
    "    u = int(input())\n",
    "    summ += u\n",
    "    lst.append(u ** 2)\n",
    "    if summ == 0:\n",
    "        break\n",
    "print(sum(lst))"
   ]
  },
  {
   "cell_type": "markdown",
   "id": "c2a1a8c1",
   "metadata": {},
   "source": [
    "Напишите программу, которая выводит часть последовательности 1 2 2 3 3 3 4 4 4 4 5 5 5 5 5 ... (число повторяется столько раз, чему равно). На вход программе передаётся неотрицательное целое число n — столько элементов последовательности должна отобразить программа. На выходе ожидается последовательность чисел, записанных через пробел в одну строку.\n",
    "\n",
    "Например, если n = 7, то программа должна вывести 1 2 2 3 3 3 4."
   ]
  },
  {
   "cell_type": "code",
   "execution_count": 21,
   "id": "c03611c6",
   "metadata": {},
   "outputs": [
    {
     "name": "stdout",
     "output_type": "stream",
     "text": [
      "0\n"
     ]
    }
   ],
   "source": [
    "n = int(input())\n",
    "lst = []\n",
    "cnt = 0\n",
    "for i in range(1, n + 1):\n",
    "    lst += [i] * i\n",
    "for j in lst:\n",
    "    print(j, end = ' ')\n",
    "    cnt += 1\n",
    "    if cnt >= n:\n",
    "        break"
   ]
  },
  {
   "cell_type": "code",
   "execution_count": 26,
   "id": "104f91ed",
   "metadata": {},
   "outputs": [
    {
     "name": "stdout",
     "output_type": "stream",
     "text": [
      "5 8 2 7 8 8 2 4\n",
      "10\n",
      "Отсутствует\n"
     ]
    }
   ],
   "source": [
    "lst = [int(i) for i in input().split()]\n",
    "x = int(input())\n",
    "cnt = 0\n",
    "for j in range(len(lst)):\n",
    "    if x == lst[j]:\n",
    "        print(j, end = ' ')\n",
    "        cnt += 1\n",
    "if cnt == 0:\n",
    "    print('Отсутствует')"
   ]
  },
  {
   "cell_type": "code",
   "execution_count": 5,
   "id": "4034838e",
   "metadata": {},
   "outputs": [
    {
     "name": "stdout",
     "output_type": "stream",
     "text": [
      "1 2 3\n"
     ]
    }
   ],
   "source": [
    "matrix = []\n",
    "while True:\n",
    "    matrix += [int(j) for j in input().split()]\n",
    "    if 'end':\n",
    "        break"
   ]
  },
  {
   "cell_type": "markdown",
   "id": "e287aca9",
   "metadata": {},
   "source": [
    "Функция удаляет нечетные элементы списка, а четные сокращает в 2 раза"
   ]
  },
  {
   "cell_type": "code",
   "execution_count": 17,
   "id": "82175eda",
   "metadata": {},
   "outputs": [],
   "source": [
    "def modify_list(l):\n",
    "    i = len(l) - 1\n",
    "    while i != -1:\n",
    "        if l[i] % 2:\n",
    "            del l[i]\n",
    "        else:\n",
    "            l[i] = l[i] // 2\n",
    "        i -= 1\n",
    "    return l\n",
    "print(modify_list([1, 2, 3, 4, 5, 6]))"
   ]
  },
  {
   "cell_type": "markdown",
   "id": "b0ea0914",
   "metadata": {},
   "source": [
    "Напишите функцию update_dictionary(d, key, value), которая принимает на вход словарь _d_ и два числа: _key_ и _value_.\n",
    "\n",
    "Если ключ _key_ есть в словаре _d_, то добавьте значение _value_ в список, который хранится по этому ключу.\n",
    "Если ключа _key_ нет в словаре, то нужно добавить значение в список по ключу _2*key_. Если и ключа _2 * key_ нет, то нужно добавить ключ _2 * key_ в словарь и сопоставить ему список из переданного элемента _[value]_."
   ]
  },
  {
   "cell_type": "code",
   "execution_count": 3,
   "id": "dc72461a",
   "metadata": {},
   "outputs": [],
   "source": [
    "def update_dictionary(d, key, value):\n",
    "    if key in d:\n",
    "        d[key].append(value)\n",
    "    elif key not in d and 2*key in d:\n",
    "        d[2*key].append(value)\n",
    "    else:\n",
    "        d[2*key] = [value]\n",
    "    return d\n",
    "d = {}\n",
    "print(update_dictionary(d, 1, -1))  # None\n",
    "print(d)   "
   ]
  },
  {
   "cell_type": "markdown",
   "id": "aec37ee5",
   "metadata": {},
   "source": [
    "Помогите Антону написать упрощённую версию такой программы, которая сможет подсчитать слова, разделённые пробелом и вывести получившуюся статистику.\n",
    "\n",
    "Программа должна считывать одну строку со стандартного ввода и выводить для каждого уникального слова в этой строке число его повторений (без учёта регистра) в формате \"слово количество\" (см. пример вывода)."
   ]
  },
  {
   "cell_type": "code",
   "execution_count": 35,
   "id": "87edcfe6",
   "metadata": {},
   "outputs": [
    {
     "name": "stdout",
     "output_type": "stream",
     "text": [
      "a aa abC aa ac abc bcd a\n"
     ]
    },
    {
     "data": {
      "text/plain": [
       "{'a': 2, 'aa': 2, 'abc': 2, 'ac': 1, 'bcd': 1}"
      ]
     },
     "execution_count": 35,
     "metadata": {},
     "output_type": "execute_result"
    }
   ],
   "source": [
    "stroka = [i for i in input().lower().split()]\n",
    "cnt = {}\n",
    "for i in stroka:\n",
    "    if i in cnt:\n",
    "        cnt[i] += 1\n",
    "    else:\n",
    "        cnt[i] = 1\n",
    "for i in cnt.items():\n",
    "    print(*i)"
   ]
  },
  {
   "cell_type": "markdown",
   "id": "25114a6a",
   "metadata": {},
   "source": [
    "Напишите программу, которая считывает строку с числом nn, которое задаёт количество чисел, которые нужно считать. Далее считывает n строк с числами x_i, по одному числу в каждой строке. Итого будет n+1 строк.\n",
    "\n",
    "При считывании числа x_i программа должна на отдельной строке вывести значение f(x_i). Функция f(x) уже реализована и доступна для вызова. \n",
    "\n",
    "Функция вычисляется достаточно долго и зависит только от переданного аргумента x. Для того, чтобы уложиться в ограничение по времени, нужно избежать повторного вычисления значений.\n",
    "\n",
    "__Sample Input:__\n",
    "\n",
    "5\n",
    "5\n",
    "12\n",
    "9\n",
    "20\n",
    "12\n",
    "\n",
    "__Sample Output:__\n",
    "\n",
    "11\n",
    "41\n",
    "47\n",
    "61\n",
    "41"
   ]
  },
  {
   "cell_type": "code",
   "execution_count": 12,
   "id": "ad792847",
   "metadata": {},
   "outputs": [
    {
     "name": "stdout",
     "output_type": "stream",
     "text": [
      "4\n",
      "2\n",
      "5\n",
      "2\n",
      "12\n",
      "4\n",
      "25\n",
      "4\n",
      "144\n"
     ]
    }
   ],
   "source": [
    "def f(x):\n",
    "    return x ** 2\n",
    "\n",
    "d = {}\n",
    "k = []\n",
    "n = int(input())\n",
    "for i in range(n):\n",
    "    x = int(input())\n",
    "    k.append(x)\n",
    "for j in range(0, len(k)):\n",
    "    key = k[j]\n",
    "    if  key in d:\n",
    "        print(d[key])\n",
    "    elif key not in d:\n",
    "        p = k[j]\n",
    "        d[key] = f(p)\n",
    "        print(d.get(key))"
   ]
  },
  {
   "cell_type": "markdown",
   "id": "92de62e0",
   "metadata": {},
   "source": [
    "На прошлой неделе мы сжимали строки, используя кодирование повторов. Теперь нашей задачей будет восстановление исходной строки обратно.\n",
    "\n",
    "Напишите программу, которая считывает из файла строку, соответствующую тексту, сжатому с помощью кодирования повторов, и производит обратную операцию, получая исходный текст.\n",
    "\n",
    "Запишите полученный текст в файл и прикрепите его, как ответ на это задание.\n",
    "\n",
    "В исходном тексте не встречаются цифры, так что код однозначно интерпретируем.\n",
    "\n",
    "Примечание. Это первое задание типа Dataset Quiz. В таких заданиях после нажатия \"Start Quiz\" у вас появляется ссылка \"download your dataset\". Используйте эту ссылку для того, чтобы загрузить файл со входными данными к себе на компьютер. Запустите вашу программу, используя этот файл в качестве входных данных. Выходной файл, который при этом у вас получится, надо отправить в качестве ответа на эту задачу.\n",
    "\n",
    "__Sample Input:__\n",
    "\n",
    "a3b4c2e10b1\n",
    "\n",
    "__Sample Output:__\n",
    "\n",
    "aaabbbbcceeeeeeeeeeb"
   ]
  },
  {
   "cell_type": "code",
   "execution_count": 7,
   "id": "0c582afd",
   "metadata": {},
   "outputs": [],
   "source": [
    "with open('./Downloads/dataset_3363_2 (4).txt', 'r') as inf:\n",
    "    s1 = inf.readline()\n",
    "    import re\n",
    "    g = re.findall(r'\\d+', s1)\n",
    "    f = [i for i in s1 if i.isalpha()]\n",
    "    h = \"\".join([int(i)*j for i, j in zip(g, f)])\n",
    "    with open('./Downloads/dataset.txt', 'w') as inf:\n",
    "        inf.write(h)"
   ]
  },
  {
   "cell_type": "markdown",
   "id": "a9a45de8",
   "metadata": {},
   "source": [
    "Недавно мы считали для каждого слова количество его вхождений в строку. Но на все слова может быть не так интересно смотреть, как, например, на наиболее часто используемые.\n",
    "\n",
    "Напишите программу, которая считывает текст из файла (в файле может быть больше одной строки) и выводит самое частое слово в этом тексте и через пробел то, сколько раз оно встретилось. Если таких слов несколько, вывести лексикографически первое (можно использовать оператор < для строк).\n",
    "\n",
    "В качестве ответа укажите вывод программы, а не саму программу.\n",
    "\n",
    "Слова, написанные в разных регистрах, считаются одинаковыми.\n",
    "\n",
    "__Sample Input:__\n",
    "\n",
    "abc a bCd bC AbC BC BCD bcd ABC\n",
    "\n",
    "__Sample Output:__\n",
    "\n",
    "abc 3"
   ]
  },
  {
   "cell_type": "code",
   "execution_count": 4,
   "id": "3f8933b3",
   "metadata": {},
   "outputs": [],
   "source": [
    "with open('./Downloads/dataset_3363_3 (5).txt') as inf:\n",
    "    s1 = inf.readline().strip().lower()\n",
    "    cnt = {}\n",
    "    h = ''\n",
    "    for i in s1.split(' '):\n",
    "        if i in cnt:\n",
    "            cnt[i] += 1\n",
    "        else:\n",
    "            cnt[i] = 1\n",
    "    for let, val in cnt.items():  # for name, age in dictionary.iteritems():  (for Python 2.x)\n",
    "        if val == max(cnt.values()):\n",
    "            h += str(let) + ' ' + str(val) + '\\n'\n",
    "    with open('./Downloads/dataset.txt', 'w') as inf:\n",
    "        inf.write(h)"
   ]
  },
  {
   "cell_type": "markdown",
   "id": "9910172b",
   "metadata": {},
   "source": [
    "Имеется файл с данными по успеваемости абитуриентов. Он представляет из себя набор строк, где в каждой строке записана следующая информация:\n",
    "\n",
    "Фамилия;Оценка_по_математике;Оценка_по_физике;Оценка_по_русскому_языку\n",
    "\n",
    "Поля внутри строки разделены точкой с запятой, оценки — целые числа.\n",
    "\n",
    "Напишите программу, которая считывает исходный файл с подобной структурой и для каждого абитуриента записывает его среднюю оценку по трём предметам на отдельной строке, соответствующей этому абитуриенту, в файл с ответом.\n",
    "\n",
    "Также вычислите средние баллы по математике, физике и русскому языку по всем абитуриентам и добавьте полученные значения, разделённые пробелом, последней строкой в файл с ответом.\n",
    "\n",
    "В качестве ответа на задание прикрепите полученный файл со средними оценками по каждому ученику и одной строкой со средними оценками по трём предметам.\n",
    "\n",
    "Примечание. Для разбиения строки на части по символу ';' можно использовать метод split следующим образом:\n",
    "\n",
    "print('First;Second-1 Second-2;Third'.split(';'))\n",
    "['First', 'Second-1 Second-2', 'Third']\n",
    "\n",
    "__Sample Input:__\n",
    "\n",
    "Петров;85;92;78\n",
    "\n",
    "Сидоров;100;88;94\n",
    "\n",
    "Иванов;58;72;85\n",
    "\n",
    "__Sample Output:__\n",
    "\n",
    "85.0\n",
    "\n",
    "94.0\n",
    "\n",
    "71.666666667\n",
    "\n",
    "81.0 84.0 85.666666667"
   ]
  },
  {
   "cell_type": "code",
   "execution_count": 7,
   "id": "55862911",
   "metadata": {},
   "outputs": [],
   "source": [
    "with open('./Downloads/dataset_3363_4 (3).txt') as inf:\n",
    "    lst = []\n",
    "    for i in inf:\n",
    "        i = i.strip().split(';')\n",
    "        lst.append(i)\n",
    "    math, phys, rus = 0, 0, 0\n",
    "    for i in range(len(lst)):\n",
    "        math += int(lst[i][1])\n",
    "        phys += int(lst[i][2])\n",
    "        rus += int(lst[i][3])\n",
    "    math /= len(lst)\n",
    "    phys /= len(lst)\n",
    "    rus /= len(lst)\n",
    "    math, phys, rus = (round(i, 9) for i in (math, phys, rus))\n",
    "    a = f'{math} {phys} {rus}'\n",
    "    with open('./Downloads/dataset2.txt', 'w') as inf:\n",
    "        for name, math, phys, rus in lst:\n",
    "            print(str(round((int(math) + int(phys) + int(rus)) / 3, 9)), file = inf)\n",
    "        print(a, file = inf)"
   ]
  },
  {
   "cell_type": "markdown",
   "id": "0d5e20e0",
   "metadata": {},
   "source": [
    "Скачайте файл. В нём указан адрес другого файла, который нужно скачать с использованием модуля requests и посчитать число строк в нём."
   ]
  },
  {
   "cell_type": "code",
   "execution_count": 2,
   "id": "4a0294b2",
   "metadata": {},
   "outputs": [],
   "source": [
    "import requests\n",
    "stroka = requests.get(url = 'https://stepic.org/media/attachments/course67/3.6.2/662.txt')\n",
    "\n",
    "cnt = 0\n",
    "for i in range(len(stroka.text.splitlines())):\n",
    "    if stroka.text.splitlines()[i] != '':\n",
    "        cnt += 1\n",
    "print(cnt)"
   ]
  },
  {
   "cell_type": "markdown",
   "id": "347bb4cb",
   "metadata": {},
   "source": [
    "Имеется набор файлов, каждый из которых, кроме последнего, содержит имя следующего файла.\n",
    "Первое слово в тексте последнего файла: \"We\".\n",
    "\n",
    "Скачайте предложенный файл. В нём содержится ссылка на первый файл из этого набора.\n",
    "\n",
    "Все файлы располагаются в каталоге по адресу:\n",
    "https://stepic.org/media/attachments/course67/3.6.3/\n",
    "\n",
    "Загрузите содержимое ﻿последнего файла из набора, как ответ на это задание."
   ]
  },
  {
   "cell_type": "code",
   "execution_count": 8,
   "id": "67949aef",
   "metadata": {},
   "outputs": [
    {
     "name": "stdout",
     "output_type": "stream",
     "text": [
      "We are the champions, my friends,\n",
      "And we'll keep on fighting 'til the end.\n",
      "We are the champions.\n",
      "We are the champions.\n",
      "No time for losers\n",
      "'Cause we are the champions of the world.\n"
     ]
    }
   ],
   "source": [
    "import requests\n",
    "stroka = requests.get(url = f'https://stepic.org/media/attachments/course67/3.6.3/699991.txt')\n",
    "while stroka.text.find('We') == -1:\n",
    "    n = stroka.text\n",
    "    stroka = requests.get(url = f'https://stepic.org/media/attachments/course67/3.6.3/' + str(n))\n",
    "print(stroka.text, end = '\\n')"
   ]
  },
  {
   "cell_type": "markdown",
   "id": "392b9dcb",
   "metadata": {},
   "source": [
    "Напишите программу, которая принимает на стандартный вход список игр футбольных команд с результатом матча и выводит на стандартный вывод сводную таблицу результатов всех матчей.\n",
    "\n",
    "За победу команде начисляется 3 очка, за поражение — 0, за ничью — 1.\n",
    "\n",
    "Формат ввода следующий:\n",
    "В первой строке указано целое число nn — количество завершенных игр.\n",
    "После этого идет nn строк, в которых записаны результаты игры в следующем формате:\n",
    "Первая_команда;Забито_первой_командой;Вторая_команда;Забито_второй_командой\n",
    "\n",
    "Вывод программы необходимо оформить следующим образом:\n",
    "Команда:Всего_игр Побед Ничьих Поражений Всего_очков\n",
    "\n",
    "Конкретный пример ввода-вывода приведён ниже.\n",
    "\n",
    "Порядок вывода команд произвольный.\n",
    "\n",
    "__Sample Input:__\n",
    "\n",
    "3\n",
    "\n",
    "Спартак;9;Зенит;10\n",
    "\n",
    "Локомотив;12;Зенит;3\n",
    "\n",
    "Спартак;8;Локомотив;15\n",
    "\n",
    "__Sample Output:__\n",
    "\n",
    "Спартак:2 0 0 2 0\n",
    "\n",
    "Зенит:2 1 0 1 3\n",
    "\n",
    "Локомотив:2 2 0 0 6"
   ]
  },
  {
   "cell_type": "code",
   "execution_count": null,
   "id": "ad445e67",
   "metadata": {},
   "outputs": [],
   "source": [
    "res = {}\n",
    "for _ in range(int(input())):\n",
    "    n1, r1, n2, r2 = (int(i) if i.isdigit() else i for i in input().split(';'))\n",
    "    res[n1] = list(map(sum, zip([1, r1 > r2, r1 == r2, r1 < r2], res.get(n1, [0, 0, 0, 0]))))\n",
    "    res[n2] = list(map(sum, zip([1, r2 > r1, r2 == r1, r2 < r1], res.get(n2, [0, 0, 0, 0]))))\n",
    " \n",
    "print('\\n'.join(f'{k}: {\" \".join(map(str, v))} {v[1] * 3 + v[2]}' for k, v in res.items()))"
   ]
  },
  {
   "cell_type": "markdown",
   "id": "9e00437c",
   "metadata": {},
   "source": [
    "Напишите программу, которая умеет шифровать и расшифровывать шифр подстановки. Программа принимает на вход две строки одинаковой длины, на первой строке записаны символы исходного алфавита, на второй строке — символы конечного алфавита, после чего идёт строка, которую нужно зашифровать переданным ключом, и ещё одна строка, которую нужно расшифровать.\n",
    "\n",
    "Пусть, например, на вход программе передано:\n",
    "\n",
    "abcd\n",
    "\n",
    "*d%#\n",
    "\n",
    "abacabadaba\n",
    "\n",
    "#*%*d*%\n",
    "\n",
    "Это значит, что символ a исходного сообщения заменяется на символ * в шифре, b заменяется на d, c — на % и d — на #.\n",
    "Нужно зашифровать строку `abacabadaba` и расшифровать строку `#*%*d*%` с помощью этого шифра. Получаем следующие строки, которые и передаём на вывод программы:\n",
    "\n",
    "`*d*%*d*#*d*`\n",
    "\n",
    "`dacabac`\n",
    "\n",
    "__Sample Input 1:__\n",
    "\n",
    "_abcd_\n",
    "\n",
    "_*d%#_\n",
    "\n",
    "_abacabadaba_\n",
    "\n",
    "_#*%*d*%_\n",
    "\n",
    "__Sample Output 1:__\n",
    "\n",
    "*d*%*d*#*d*\n",
    "\n",
    "_dacabac_"
   ]
  },
  {
   "cell_type": "code",
   "execution_count": 10,
   "id": "daec80b0",
   "metadata": {},
   "outputs": [
    {
     "name": "stdout",
     "output_type": "stream",
     "text": [
      "abcd\n",
      "*d%#\n",
      "abacabadaba\n",
      "#*%*d*%\n"
     ]
    },
    {
     "data": {
      "text/plain": [
       "{'a': '*', 'b': 'd', 'c': '%', 'd': '#'}"
      ]
     },
     "execution_count": 10,
     "metadata": {},
     "output_type": "execute_result"
    }
   ],
   "source": [
    "stroka = str(input())\n",
    "shifr = str(input())\n",
    "code = str(input())\n",
    "decode = str(input())\n",
    "\n",
    "indic = dict(zip(stroka, shifr))\n",
    "for i in code:\n",
    "    print(indic[i], end = '')\n",
    "indic_new = dict(zip(shifr,stroka))\n",
    "for k in decode:\n",
    "    print(indic_new[k], end = '')"
   ]
  },
  {
   "cell_type": "markdown",
   "id": "0a604e9b",
   "metadata": {},
   "source": [
    "Простейшая система проверки орфографии может быть основана на использовании списка известных слов.\n",
    "Если введённое слово не найдено в этом списке, оно помечается как \"ошибка\".\n",
    "\n",
    "Попробуем написать подобную систему.\n",
    "\n",
    "На вход программе первой строкой передаётся количество _d_ известных нам слов, после чего на _d_ строках указываются эти слова. Затем передаётся количество _l_ строк текста для проверки, после чего _l_ строк текста.\n",
    "\n",
    "Выведите уникальные \"ошибки\" в произвольном порядке. Работу производите без учёта регистра."
   ]
  },
  {
   "cell_type": "code",
   "execution_count": null,
   "id": "3b0e8b1e",
   "metadata": {},
   "outputs": [],
   "source": [
    "i, j = 0, 0\n",
    "print_list = []\n",
    "print_list_f = []\n",
    "n_dic = int(input())\n",
    "dic = []\n",
    "while i < n_dic:\n",
    "    dic.append(str(input()))\n",
    "    i += 1\n",
    "n_phras = int(input())\n",
    "phrase = []\n",
    "while j < n_phras:\n",
    "    phrase.append(str(input()))\n",
    "    j += 1\n",
    "f = [i.lower() for i in dic]\n",
    "for k in range(len(phrase)):\n",
    "    for m in range(len(phrase[k].split(' '))):\n",
    "        if phrase[k].lower().split(' ')[m] in f:\n",
    "            continue\n",
    "        else:\n",
    "            if phrase[k].split(' ')[m].lower() not in print_list_f:\n",
    "                print_list.append(phrase[k].split(' ')[m])\n",
    "            print_list_f = [i.lower() for i in print_list]\n",
    "for i in print_list:\n",
    "    print(i)"
   ]
  },
  {
   "cell_type": "markdown",
   "id": "9ef71575",
   "metadata": {},
   "source": [
    "После дрессировки черепашка научилась понимать и запоминать указания биологов следующего вида:\n",
    "\n",
    "север 10\n",
    "\n",
    "запад 20\n",
    "\n",
    "юг 30\n",
    "\n",
    "восток 40\n",
    "\n",
    "где первое слово — это направление, в котором должна двигаться черепашка, а число после слова — это положительное расстояние в сантиметрах, которое должна пройти черепашка.\n",
    "\n",
    "Но команды даются быстро, а черепашка ползёт медленно, и программисты догадались, что можно написать программу, которая определит, куда в итоге биологи приведут черепашку. Для этого программисты просят вас написать программу, которая выведет точку, в которой окажется черепашка после всех команд. Для простоты они решили считать, что движение начинается в точке (0, 0), и движение на восток увеличивает первую координату, а на север — вторую.\n",
    "\n",
    "Программе подаётся на вход число команд nn, которые нужно выполнить черепашке, после чего nn строк с самими командами. Вывести нужно два числа в одну строку: первую и вторую координату конечной точки черепашки. Все координаты целочисленные."
   ]
  },
  {
   "cell_type": "code",
   "execution_count": 105,
   "id": "94524bd8",
   "metadata": {},
   "outputs": [
    {
     "name": "stdout",
     "output_type": "stream",
     "text": [
      "4\n",
      "\n",
      "\n",
      "\n",
      "\n"
     ]
    },
    {
     "ename": "ValueError",
     "evalue": "not enough values to unpack (expected 2, got 0)",
     "output_type": "error",
     "traceback": [
      "\u001b[1;31m---------------------------------------------------------------------------\u001b[0m",
      "\u001b[1;31mValueError\u001b[0m                                Traceback (most recent call last)",
      "\u001b[1;32m~\\AppData\\Local\\Temp/ipykernel_10152/2358789017.py\u001b[0m in \u001b[0;36m<module>\u001b[1;34m\u001b[0m\n\u001b[0;32m      1\u001b[0m \u001b[0md\u001b[0m \u001b[1;33m=\u001b[0m \u001b[1;33m{\u001b[0m\u001b[1;34m'север'\u001b[0m\u001b[1;33m:\u001b[0m \u001b[1;36m0\u001b[0m\u001b[1;33m,\u001b[0m \u001b[1;34m'юг'\u001b[0m\u001b[1;33m:\u001b[0m \u001b[1;36m0\u001b[0m\u001b[1;33m,\u001b[0m \u001b[1;34m'восток'\u001b[0m\u001b[1;33m:\u001b[0m \u001b[1;36m0\u001b[0m\u001b[1;33m,\u001b[0m \u001b[1;34m'запад'\u001b[0m\u001b[1;33m:\u001b[0m \u001b[1;36m0\u001b[0m\u001b[1;33m}\u001b[0m\u001b[1;33m\u001b[0m\u001b[1;33m\u001b[0m\u001b[0m\n\u001b[1;32m----> 2\u001b[1;33m \u001b[1;32mfor\u001b[0m \u001b[0mcom\u001b[0m\u001b[1;33m,\u001b[0m \u001b[0mval\u001b[0m \u001b[1;32min\u001b[0m \u001b[1;33m[\u001b[0m\u001b[0minput\u001b[0m\u001b[1;33m(\u001b[0m\u001b[1;33m)\u001b[0m\u001b[1;33m.\u001b[0m\u001b[0msplit\u001b[0m\u001b[1;33m(\u001b[0m\u001b[1;33m)\u001b[0m \u001b[1;32mfor\u001b[0m \u001b[0mi\u001b[0m \u001b[1;32min\u001b[0m \u001b[0mrange\u001b[0m\u001b[1;33m(\u001b[0m\u001b[0mint\u001b[0m\u001b[1;33m(\u001b[0m\u001b[0minput\u001b[0m\u001b[1;33m(\u001b[0m\u001b[1;33m)\u001b[0m\u001b[1;33m)\u001b[0m\u001b[1;33m)\u001b[0m\u001b[1;33m]\u001b[0m\u001b[1;33m:\u001b[0m\u001b[1;33m\u001b[0m\u001b[1;33m\u001b[0m\u001b[0m\n\u001b[0m\u001b[0;32m      3\u001b[0m     \u001b[0md\u001b[0m\u001b[1;33m[\u001b[0m\u001b[0mcom\u001b[0m\u001b[1;33m]\u001b[0m \u001b[1;33m+=\u001b[0m \u001b[0mint\u001b[0m\u001b[1;33m(\u001b[0m\u001b[0mval\u001b[0m\u001b[1;33m)\u001b[0m\u001b[1;33m\u001b[0m\u001b[1;33m\u001b[0m\u001b[0m\n\u001b[0;32m      4\u001b[0m \u001b[0mprint\u001b[0m\u001b[1;33m(\u001b[0m\u001b[0md\u001b[0m\u001b[1;33m[\u001b[0m\u001b[1;34m'восток'\u001b[0m\u001b[1;33m]\u001b[0m \u001b[1;33m-\u001b[0m \u001b[0md\u001b[0m\u001b[1;33m[\u001b[0m\u001b[1;34m'запад'\u001b[0m\u001b[1;33m]\u001b[0m\u001b[1;33m,\u001b[0m \u001b[0md\u001b[0m\u001b[1;33m[\u001b[0m\u001b[1;34m'север'\u001b[0m\u001b[1;33m]\u001b[0m \u001b[1;33m-\u001b[0m \u001b[0md\u001b[0m\u001b[1;33m[\u001b[0m\u001b[1;34m'юг'\u001b[0m\u001b[1;33m]\u001b[0m\u001b[1;33m,\u001b[0m \u001b[0mend\u001b[0m \u001b[1;33m=\u001b[0m \u001b[1;34m''\u001b[0m\u001b[1;33m)\u001b[0m\u001b[1;33m\u001b[0m\u001b[1;33m\u001b[0m\u001b[0m\n",
      "\u001b[1;31mValueError\u001b[0m: not enough values to unpack (expected 2, got 0)"
     ]
    }
   ],
   "source": [
    "d = {'север': 0, 'юг': 0, 'восток': 0, 'запад': 0}\n",
    "for com, val in [input().split() for i in range(int(input()))]:\n",
    "    d[com] += int(val)\n",
    "print(d['восток'] - d['запад'], d['север'] - d['юг'], end = '')"
   ]
  },
  {
   "cell_type": "markdown",
   "id": "900ac5a3",
   "metadata": {},
   "source": [
    "Дан файл с таблицей в формате [TSV](https://ru.wikipedia.org/wiki/TSV) с информацией о росте школьников разных классов.\n",
    "\n",
    "Напишите программу, которая прочитает этот файл и подсчитает для каждого класса средний рост учащегося.\n",
    "\n",
    "Файл состоит из набора строк, каждая из которых представляет собой три поля:\n",
    "Класс Фамилия Рост\n",
    "\n",
    "Класс обозначается только числом. Буквенные модификаторы не используются. Номер класса может быть от 1 до 11 включительно. В фамилии нет пробелов, а в качестве роста используется натуральное число, но при подсчёте среднего требуется вычислить значение в виде вещественного числа.\n",
    "\n",
    "Выводить информацию о среднем росте следует в порядке возрастания номера класса (для классов с первого по одиннадцатый). Если про какой-то класс нет информации, необходимо вывести напротив него прочерк.\n",
    "\n",
    "В качестве ответа прикрепите файл с полученными данными о среднем росте."
   ]
  },
  {
   "cell_type": "code",
   "execution_count": 112,
   "id": "0384c54f",
   "metadata": {},
   "outputs": [],
   "source": [
    "with open(\"./Downloads/dataset_3380_5 (1).txt\", \"r\") as f:\n",
    "    a = {str(i): [] for i in range(1, 12)}\n",
    "    [a[i[0]].append(int(i[2])) for i in map(lambda x: x.split('\\t'), f.read().split('\\n')) if i[0]]\n",
    "with open('./Downloads/dataset.txt', 'w') as inf:\n",
    "    [print(i,sum(a[i])/len(a[i]) if len(a[i]) > 0 else '-', file = inf) for i in map(str, range(1, 12))]"
   ]
  },
  {
   "cell_type": "markdown",
   "id": "df7fd0ff",
   "metadata": {},
   "source": [
    "Напишите программу, на вход которой подаётся прямоугольная матрица в виде последовательности строк. После последней строки матрицы идёт строка, содержащая только строку \"end\" (без кавычек, см. Sample Input).\n",
    "\n",
    "Программа должна вывести матрицу того же размера, у которой каждый элемент в позиции i, j равен сумме элементов первой матрицы на позициях (i-1, j), (i+1, j), (i, j-1), (i, j+1). У крайних символов соседний элемент находится с противоположной стороны матрицы.\n",
    "\n",
    "В случае одной строки/столбца элемент сам себе является соседом по соответствующему направлению.\n",
    "\n",
    "__Sample Input 1:__\n",
    "\n",
    "9 5 3\n",
    "\n",
    "0 7 -1\n",
    "\n",
    "-5 2 9\n",
    "\n",
    "end\n",
    "\n",
    "__Sample Output 1:__\n",
    "\n",
    "3 21 22\n",
    "\n",
    "10 6 19\n",
    "\n",
    "20 16 -1"
   ]
  },
  {
   "cell_type": "code",
   "execution_count": null,
   "id": "4b2d8f3d",
   "metadata": {},
   "outputs": [],
   "source": [
    "n = ''\n",
    "m = []\n",
    "while True:\n",
    "    n = str(input()) # ввод строк\n",
    "    if n == 'end':\n",
    "        break\n",
    "    m.append([int(s) for s in n.split()]) \n",
    "li, lj = len(m), len(m[0])\n",
    "new = [[sum([m[i-1][j], m[(i+1)%li][j], m[i][j-1], m[i][(j+1)%lj]]) for j in range(lj)] for i in range(li)]\n",
    "\n",
    "for i in range (li):\n",
    "    for j in range (lj):\n",
    "        print(new[i][j], end =' ')\n",
    "    print()\n"
   ]
  },
  {
   "cell_type": "markdown",
   "id": "c25603aa",
   "metadata": {},
   "source": [
    "Выведите таблицу размером nхn, заполненную числами от 1 до $n^2$ по спирали, выходящей из левого верхнего угла и закрученной по часовой стрелке, как показано в примере (здесь n=5):\n",
    "\n",
    "__Sample Input:__\n",
    "\n",
    "5\n",
    "\n",
    "__Sample Output:__\n",
    "\n",
    "1 2 3 4 5\n",
    "\n",
    "16 17 18 19 6\n",
    "\n",
    "15 24 25 20 7\n",
    "\n",
    "14 23 22 21 8\n",
    "\n",
    "13 12 11 10 9"
   ]
  },
  {
   "cell_type": "code",
   "execution_count": 114,
   "id": "7b661d17",
   "metadata": {},
   "outputs": [
    {
     "name": "stdout",
     "output_type": "stream",
     "text": [
      "5\n",
      "1 2 3 4 5\n",
      "16 17 18 19 6\n",
      "15 24 25 20 7\n",
      "14 23 22 21 8\n",
      "13 12 11 10 9\n"
     ]
    }
   ],
   "source": [
    "n=int(input())\n",
    "t=[[0]*n for i in range (n)]\n",
    "i,j=0,0\n",
    "for k in range(1, n*n+1):\n",
    "  t[i][j]=k\n",
    "  if k==n*n: break\n",
    "  if i<=j+1 and i+j<n-1: j+=1\n",
    "  elif i<j and i+j>=n-1: i+=1\n",
    "  elif i>=j and i+j>n-1: j-=1\n",
    "  elif i>j+1 and i+j<=n-1: i-=1\n",
    "for i in range(n):\n",
    "  print(*t[i])"
   ]
  },
  {
   "cell_type": "markdown",
   "id": "b142bd68",
   "metadata": {},
   "source": [
    "# IT RESUME"
   ]
  },
  {
   "cell_type": "markdown",
   "id": "0c830709",
   "metadata": {},
   "source": [
    "Девочка Лиза любит учиться и ей подарили новый учебник по математике. Учебник состоит из задач, которые сгруппированы по разделам - «Производные», «Интегралы» и так далее. Лиза считает, что если номер задачи в разделе совпадает с номером страницы, то такая задача - «особенная».\n",
    "\n",
    "Учебник имеет следующую стурктуру:\n",
    "\n",
    "В книге n разделов. Нумерация идет от 1 до n.\n",
    "В i-ом разделе содержится arr[i] задач. Задачи занумерованы от 1 до arr[i].\n",
    "На каждой странице находится k задач. Только на последней странице каждого раздела задач может быть меньше, чем k.\n",
    "Каждый новый раздел начинается на новой странице. Соответственно, на одной странице никогда не будут задачи сразу с нескольких разделов.\n",
    "Нумерация страниц начинается с 1.\n",
    "Задание\n",
    "Напишите функцию CountSpecialProblems, которая будет возвращать число «особенных» задач в Лизином учебнике.\n",
    "\n",
    "Функция CountSpecialProblems принимает на вход:\n",
    "\n",
    "n - число разделов в книге\n",
    "k - число задач на странице\n",
    "arr - массив с количеством задач в каждом разделе"
   ]
  },
  {
   "cell_type": "code",
   "execution_count": 22,
   "id": "75febc0a",
   "metadata": {},
   "outputs": [
    {
     "name": "stdout",
     "output_type": "stream",
     "text": [
      "1\n"
     ]
    }
   ],
   "source": [
    "import math\n",
    "class Answer:\n",
    "    def CountSpecialProblems(self, n, k, arr):\n",
    "        # введите свой код ниже\n",
    "        count = 0\n",
    "        page = 1\n",
    "        \n",
    "        for i in arr:\n",
    "            zadacha = 1\n",
    "            while zadacha <= i:\n",
    "                if zadacha == page:\n",
    "                    count += 1\n",
    "                if zadacha % k == 0:\n",
    "                    page += 1\n",
    "                zadacha += 1\n",
    "            if i % k != 0:\n",
    "                page += 1\n",
    "        return count\n",
    "    \n",
    "print(Answer().CountSpecialProblems(n = 2, k = 3, arr = [4, 2]))"
   ]
  },
  {
   "cell_type": "markdown",
   "id": "2225653d",
   "metadata": {},
   "source": [
    "Задача на добавление медианного значения последней строкой"
   ]
  },
  {
   "cell_type": "code",
   "execution_count": 6,
   "id": "f7652071",
   "metadata": {},
   "outputs": [],
   "source": [
    "import pandas as pd\n",
    "\n",
    "df1 = [\n",
    "    {'page1': 1, 'page2': 25, 'page3': 3}, \n",
    "    {'page1': 4, 'page2': 58, 'page3': 1}, \n",
    "    {'page1': 1.5, 'page2': 8, 'page3': 0.5}\n",
    "    ]\n",
    "\n",
    "df2 = [\n",
    "     {'page1': 2, 'page2': 11, 'page3': None}, \n",
    "     {'page1': 5, 'page2': 21, 'page3': 5}, \n",
    "     {'page1': 0.1, 'page2': 38, 'page3': 15}\n",
    "     ]\n",
    "\n",
    "df3 = [\n",
    "     {'page1': 2, 'page2': 11, 'page3': 40}, \n",
    "     {'page1': 5, 'page2': 15, 'page3': None}, \n",
    "     {'page1': 4, 'page2': 21, 'page3': 13}\n",
    "     ]\n",
    "\n",
    "df1, df2, df3 = [pd.DataFrame(df) for df in [df1, df2, df3]]\n"
   ]
  },
  {
   "cell_type": "code",
   "execution_count": 7,
   "id": "01ff3357",
   "metadata": {},
   "outputs": [],
   "source": [
    "df = pd.concat([df1, df2, df3]).dropna().reset_index().drop('index', axis = 1)"
   ]
  },
  {
   "cell_type": "code",
   "execution_count": 12,
   "id": "4ac0006b",
   "metadata": {},
   "outputs": [],
   "source": [
    "Mean = []\n",
    "for i in range(len(df.columns)): \n",
    "    Mean.append(df.iloc[:, i].mean())\n",
    "Mean = pd.DataFrame([dict(zip(df.columns, Mean))]).rename(index = {0: 'Mean'})"
   ]
  },
  {
   "cell_type": "code",
   "execution_count": 21,
   "id": "2dc70b3e",
   "metadata": {},
   "outputs": [
    {
     "data": {
      "text/html": [
       "<div>\n",
       "<style scoped>\n",
       "    .dataframe tbody tr th:only-of-type {\n",
       "        vertical-align: middle;\n",
       "    }\n",
       "\n",
       "    .dataframe tbody tr th {\n",
       "        vertical-align: top;\n",
       "    }\n",
       "\n",
       "    .dataframe thead th {\n",
       "        text-align: right;\n",
       "    }\n",
       "</style>\n",
       "<table border=\"1\" class=\"dataframe\">\n",
       "  <thead>\n",
       "    <tr style=\"text-align: right;\">\n",
       "      <th></th>\n",
       "      <th>page1</th>\n",
       "      <th>page2</th>\n",
       "      <th>page3</th>\n",
       "    </tr>\n",
       "  </thead>\n",
       "  <tbody>\n",
       "    <tr>\n",
       "      <th>0</th>\n",
       "      <td>1.000000</td>\n",
       "      <td>25.0</td>\n",
       "      <td>3.000000</td>\n",
       "    </tr>\n",
       "    <tr>\n",
       "      <th>1</th>\n",
       "      <td>4.000000</td>\n",
       "      <td>58.0</td>\n",
       "      <td>1.000000</td>\n",
       "    </tr>\n",
       "    <tr>\n",
       "      <th>2</th>\n",
       "      <td>1.500000</td>\n",
       "      <td>8.0</td>\n",
       "      <td>0.500000</td>\n",
       "    </tr>\n",
       "    <tr>\n",
       "      <th>3</th>\n",
       "      <td>5.000000</td>\n",
       "      <td>21.0</td>\n",
       "      <td>5.000000</td>\n",
       "    </tr>\n",
       "    <tr>\n",
       "      <th>4</th>\n",
       "      <td>0.100000</td>\n",
       "      <td>38.0</td>\n",
       "      <td>15.000000</td>\n",
       "    </tr>\n",
       "    <tr>\n",
       "      <th>5</th>\n",
       "      <td>2.000000</td>\n",
       "      <td>11.0</td>\n",
       "      <td>40.000000</td>\n",
       "    </tr>\n",
       "    <tr>\n",
       "      <th>6</th>\n",
       "      <td>4.000000</td>\n",
       "      <td>21.0</td>\n",
       "      <td>13.000000</td>\n",
       "    </tr>\n",
       "    <tr>\n",
       "      <th>0</th>\n",
       "      <td>2.514286</td>\n",
       "      <td>26.0</td>\n",
       "      <td>11.071429</td>\n",
       "    </tr>\n",
       "  </tbody>\n",
       "</table>\n",
       "</div>"
      ],
      "text/plain": [
       "      page1  page2      page3\n",
       "0  1.000000   25.0   3.000000\n",
       "1  4.000000   58.0   1.000000\n",
       "2  1.500000    8.0   0.500000\n",
       "3  5.000000   21.0   5.000000\n",
       "4  0.100000   38.0  15.000000\n",
       "5  2.000000   11.0  40.000000\n",
       "6  4.000000   21.0  13.000000\n",
       "0  2.514286   26.0  11.071429"
      ]
     },
     "execution_count": 21,
     "metadata": {},
     "output_type": "execute_result"
    }
   ],
   "source": [
    "pd.concat([df, Mean])"
   ]
  },
  {
   "cell_type": "markdown",
   "id": "8be9657a",
   "metadata": {},
   "source": [
    "Напишите функцию FindMedian, которая будет возвращать одно число - медианное значение.\n",
    "\n",
    "Функция FindMedian принимает на вход arr - исходный список с числами."
   ]
  },
  {
   "cell_type": "code",
   "execution_count": 2,
   "id": "202f75b6",
   "metadata": {},
   "outputs": [],
   "source": [
    "import math\n",
    "class Answer:\n",
    "    def FindMedian(self, arr):\n",
    "        arr.sort()\n",
    "        if len(arr) % 2 == 1:\n",
    "            res = arr[math.ceil(len(arr) / 2) - 1]\n",
    "        elif len(arr) % 2 == 0 and len(arr) > 0:\n",
    "            res = (arr[int(len(arr) / 2 - 1)] + arr[int(len(arr) / 2)]) / 2\n",
    "        else:\n",
    "            return None\n",
    "        return res"
   ]
  },
  {
   "cell_type": "markdown",
   "id": "92d93d91",
   "metadata": {},
   "source": [
    "Написать декоратор printing, который будет выводить на экран название функции, к которой он применяется, во время ее вызова."
   ]
  },
  {
   "cell_type": "code",
   "execution_count": 3,
   "id": "64d9fb39",
   "metadata": {},
   "outputs": [],
   "source": [
    "class Answer:\n",
    "    def printing(self, func):\n",
    "        def wrapper():\n",
    "            print(func.__name__)\n",
    "        return wrapper"
   ]
  },
  {
   "cell_type": "markdown",
   "id": "6a37ff36",
   "metadata": {},
   "source": [
    "Вы играете в компьютерную игру, где нужно перемещаться по облакам. Но не все так просто - облака бывают двух видов:\n",
    "\n",
    "обычные облачка\n",
    "грозовые тучи\n",
    "Перемещаться можно только по облачкам - наступать на грозовые тучи нельзя. Можно делать либо один шаг, либо перепрыгивать через 1.\n",
    "\n",
    "Облака представлены в виде последовательного массива чисел. 0 - значит облако, 1 - грозовая туча.\n",
    "\n",
    "Важно: Игра устроена таким образом, что вы всегда можете выиграть.\n",
    "\n",
    "Задание\n",
    "Напишите функцию jumpingOnClouds, которая будет возвращать минимальное количество прыжков, необходимое для окончания игры.\n",
    "\n",
    "Функция jumpingOnClouds принимает на вход clouds - занумерованный массив с «облаками»."
   ]
  },
  {
   "cell_type": "code",
   "execution_count": null,
   "id": "22d42480",
   "metadata": {},
   "outputs": [],
   "source": [
    "class Answer:\n",
    "    def jumpingOnClouds(self, clouds):\n",
    "        jumps = 0\n",
    "        i = 0\n",
    "        while i < len(clouds) - 1:\n",
    "            if clouds[i+2] == 0:\n",
    "                i += 2\n",
    "                jumps += 1\n",
    "            else:\n",
    "                i += 1\n",
    "                jumps += 1\n",
    "        return jumps\n",
    "    \n",
    "print(Answer().jumpingOnClouds([0, 1, 0, 0, 1, 0]))"
   ]
  },
  {
   "cell_type": "markdown",
   "id": "1618b3ac",
   "metadata": {},
   "source": [
    "Напишите функцию fizzbuzztest, которая возвращает массив, который формируется по следующим правилам:\n",
    "\n",
    "1. Обрабатываются числа от 1 до 100\n",
    "2. Если число кратно трем, то в массив заносим слово Fizz\n",
    "3. Если число кратно пяти, то в массив заносим слово Buzz\n",
    "4. Если число кратно и трем, и пяти, то в массив заносим слово FizzBuzz\n",
    "5. Если число не кратно ни одному их этих чисел, то в массив нужно поместить просто само число"
   ]
  },
  {
   "cell_type": "code",
   "execution_count": 15,
   "id": "4c6f5cf7",
   "metadata": {},
   "outputs": [],
   "source": [
    "class Answer:\n",
    "    def fizzbuzztest(self):\n",
    "        i = 1\n",
    "        res = []\n",
    "        while i < 101:\n",
    "            if i % 3 == 0 and i % 5 != 0:\n",
    "                res.append('Fizz')\n",
    "            elif i % 5 == 0 and i % 3 != 0:\n",
    "                res.append('Buzz')\n",
    "            elif i % 15 == 0:\n",
    "                res.append('FizzBuzz')\n",
    "            else:\n",
    "                res.append(i)\n",
    "            i += 1\n",
    "        return res\n",
    "\n",
    "print(Answer().fizzbuzztest())"
   ]
  },
  {
   "cell_type": "markdown",
   "id": "8d8a7a85",
   "metadata": {},
   "source": [
    "Дана строка str. Необходимо написать функцию, которая принимает на вход строку и выводит кортеж из двух элементов:\n",
    "\n",
    "1. Самый часто встречающийся символ\n",
    "2. Количество его повторов\n",
    "\n",
    "Примечание 1: Если несколько символов встречаются одинаковое количество раз, то вывести любой из кортежей.\n",
    "\n",
    "Примечание 2: Пробел и знаки препинания тоже считаются символами."
   ]
  },
  {
   "cell_type": "code",
   "execution_count": 30,
   "id": "8c7b267d",
   "metadata": {},
   "outputs": [],
   "source": [
    "class Answer:\n",
    "    def max_char(self, str1):\n",
    "        dic = {}\n",
    "        for i in str1:\n",
    "            if i in dic:\n",
    "                dic[i] += 1\n",
    "            else:\n",
    "                dic[i] = 1\n",
    "        for key, val in dic.items():\n",
    "            if val == max(dic.values()):\n",
    "                return (key, val)\n",
    "\n",
    "print(Answer().max_char('aaa bbb cc'))"
   ]
  },
  {
   "cell_type": "markdown",
   "id": "594a18e0",
   "metadata": {},
   "source": [
    "# Avito"
   ]
  },
  {
   "cell_type": "markdown",
   "id": "d8754fe9",
   "metadata": {},
   "source": [
    "Дано:\n",
    "Матрица [N×M] и число k. Значения матрицы - целые числа на отрезке [-100; 100], N, M и k- целые числа на отрезке [1; 100].\n",
    "\n",
    "На вход программе будет подано:\n",
    "На первой строке задается количество строк матрицы N и через пробел количество столбцов матрицы M. На последующих N строках задаются строки матрицы, каждая из которых содержит M целых чисел, разделенных пробелом, затем число k.\n",
    "\n",
    "Задaча:\n",
    "Необходимо вывести результат перемножения матрицы на число.\n",
    "\n",
    "Sample Input:\n",
    "\n",
    "3 2\n",
    "\n",
    "1 2\n",
    "\n",
    "3 4\n",
    "\n",
    "5 6\n",
    "\n",
    "2\n",
    "\n",
    "Sample Output:\n",
    "\n",
    "2 4\n",
    "\n",
    "6 8\n",
    "\n",
    "10 12"
   ]
  },
  {
   "cell_type": "code",
   "execution_count": 81,
   "id": "a3775bb7",
   "metadata": {},
   "outputs": [
    {
     "name": "stdout",
     "output_type": "stream",
     "text": [
      "2 4\n",
      "1 3 4 6\n",
      "1 4 6 8\n",
      "4\n",
      "4 12 16 24 \n",
      "4 16 24 32 \n"
     ]
    }
   ],
   "source": [
    "a, b = (int(x) for x in input().split())\n",
    "\n",
    "example_matrix = []      \n",
    "\n",
    "for i in range(a):\n",
    "    single_row = list(map(int, input().split()))\n",
    "    example_matrix.append(single_row)  \n",
    "k = int(input())\n",
    "\n",
    "for i in range(a):  \n",
    "    for j in range(b):  \n",
    "        print(example_matrix[i][j] * k, end=\" \")\n",
    "    print()"
   ]
  },
  {
   "cell_type": "markdown",
   "id": "ff4f5424",
   "metadata": {},
   "source": [
    "Написать программу для нахождения объема шара по его радиусу.\n",
    "\n",
    "На вход программе подается дробное число - радиус шара. Ответ округлить строго до 2х знаков после запятой.\n",
    "\n",
    "Число пи можно считать равным 3.14"
   ]
  },
  {
   "cell_type": "code",
   "execution_count": 12,
   "id": "283176c0",
   "metadata": {},
   "outputs": [
    {
     "name": "stdout",
     "output_type": "stream",
     "text": [
      "40.24\n",
      "272798.7\n"
     ]
    }
   ],
   "source": [
    "r = round(float(input()),2)\n",
    "\n",
    "v = 4/3 * 3.14 * r**3\n",
    "print(round(v, 2))"
   ]
  },
  {
   "cell_type": "markdown",
   "id": "885f86f5",
   "metadata": {},
   "source": [
    "Даны 3 точки на оси координат. Найти кратчайшее расстояние между любыми двумя из них.\n",
    "\n",
    "Координаты представлены целым числом от 1 до 50. Задаются в 3 строчки формата:\n",
    "\n",
    "x1 y1\n",
    "x2 y2\n",
    "x3 y3\n",
    "Найти расстояния между точками, вывести кратчайшее. Ответ округлить строго до 2х знаков после запятой"
   ]
  },
  {
   "cell_type": "code",
   "execution_count": 17,
   "id": "b841c33a",
   "metadata": {},
   "outputs": [
    {
     "name": "stdout",
     "output_type": "stream",
     "text": [
      "20 29\n",
      "14 1\n",
      "10 10\n",
      "9.85\n"
     ]
    }
   ],
   "source": [
    "x1, y1 = (int(i) for i in input().split())\n",
    "x2, y2 = (int(j) for j in input().split())\n",
    "x3, y3 = (int(k) for k in input().split())\n",
    "\n",
    "def distance(a, b, c, d):\n",
    "    dis = ((a - c)**2 + (b - d)**2)**(1/2)\n",
    "    return dis\n",
    "\n",
    "current_min = 0\n",
    "if distance(x1, y1, x2, y2) < distance (x1, y1, x3, y3) and distance(x1, y1, x2, y2) < distance (x2, y2, x3, y3):\n",
    "    current_min = distance(x1, y1, x2, y2)\n",
    "elif distance(x1, y1, x2, y2) > distance (x1, y1, x3, y3) and distance (x1, y1, x3, y3) < distance (x2, y2, x3, y3):\n",
    "    current_min = distance (x1, y1, x3, y3)\n",
    "else:\n",
    "    current_min = distance (x2, y2, x3, y3)\n",
    "print(round(current_min, 2))"
   ]
  },
  {
   "cell_type": "markdown",
   "id": "0719668f",
   "metadata": {},
   "source": [
    "Дано целое положительное число в двоичной системе счисления. Написать программу, конвертирующую его в десятичную систему счисления. "
   ]
  },
  {
   "cell_type": "code",
   "execution_count": 26,
   "id": "369aad59",
   "metadata": {},
   "outputs": [
    {
     "name": "stdout",
     "output_type": "stream",
     "text": [
      "11110101011100011101011100011100\n",
      "4117878556\n"
     ]
    }
   ],
   "source": [
    "num_2 = int(input())\n",
    "\n",
    "x = str(num_2)\n",
    "num_10 = 0\n",
    "l = 0\n",
    "for i in x:\n",
    "    comp = l * 2 + int(i)\n",
    "    l = comp\n",
    "    num_10 = comp\n",
    "print(num_10)"
   ]
  },
  {
   "cell_type": "markdown",
   "id": "112be198",
   "metadata": {},
   "source": [
    "Написать программу для проверки корректности IPv6 адреса.\n",
    "\n",
    "IPv6 адрес представляет собой 8 сегментов из 4-х значных шестнадцатеричных чисел, разделённых двоеточием. Разрешено пропускать нули спереди числа или сегмент целиком, если число в нём 0000, или пропустить несколько сегментов, если все они нулевые. \n",
    "\n",
    "В ответе если адрес корректный вывести строковое значение 'true', в противным случае вывести 'false'\n",
    "\n",
    "Разрешается учитывать только обычную и сокращённую запись. Специальную нотацию для IPv4 можно не учитывать:\n",
    "\n",
    "```обычная 0000:0000:0000:0000:0000:0000:0000:0000\n",
    "сокращённая ff06::c3\n",
    "специальная для IPv4(можно не учитывать) 0:0:0:0:0:ffff:192.1.56.10```\n",
    "\n",
    "В примерах ниже первый невалидный, т.к. присутствуют буквы, не используемые в шестнадцатеричных числах (g,m,o)"
   ]
  },
  {
   "cell_type": "code",
   "execution_count": 4,
   "id": "3139a61b",
   "metadata": {},
   "outputs": [
    {
     "name": "stdout",
     "output_type": "stream",
     "text": [
      "2001:0om8:8gf3:0000:0000:8a2e:0370:7334\n",
      "false\n"
     ]
    }
   ],
   "source": [
    "leter_str_16 = 'a b c d e f '\n",
    "leter_str_16 += '0 1 2 3 4 5 6 7 8 9 '\n",
    "leter_str_16 += ':'\n",
    "gs = leter_str_16.split(' ')\n",
    "ip = str(input())\n",
    "\n",
    "def test(ip):\n",
    "    l = 0\n",
    "    for i in ip:\n",
    "        for j in leter_str_16:\n",
    "            if i == j:\n",
    "                l += 1\n",
    "    return l\n",
    "\n",
    "l = test(ip)\n",
    "if l == len(ip):\n",
    "    print('true')\n",
    "else:\n",
    "    print('false')"
   ]
  }
 ],
 "metadata": {
  "kernelspec": {
   "display_name": "Python 3 (ipykernel)",
   "language": "python",
   "name": "python3"
  },
  "language_info": {
   "codemirror_mode": {
    "name": "ipython",
    "version": 3
   },
   "file_extension": ".py",
   "mimetype": "text/x-python",
   "name": "python",
   "nbconvert_exporter": "python",
   "pygments_lexer": "ipython3",
   "version": "3.9.7"
  }
 },
 "nbformat": 4,
 "nbformat_minor": 5
}
